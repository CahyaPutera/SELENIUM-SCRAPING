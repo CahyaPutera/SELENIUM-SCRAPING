{
 "cells": [
  {
   "cell_type": "markdown",
   "metadata": {},
   "source": [
    "# MOVIE REVIEW SRAPPING FROM PLAYSTORE"
   ]
  },
  {
   "cell_type": "markdown",
   "metadata": {},
   "source": [
    "## IMPORT LIBRARIES"
   ]
  },
  {
   "cell_type": "code",
   "execution_count": 1,
   "metadata": {},
   "outputs": [
    {
     "name": "stdout",
     "output_type": "stream",
     "text": [
      "Requirement already satisfied: selenium in c:\\users\\admin\\anaconda3\\lib\\site-packages (3.141.0)\n",
      "Requirement already satisfied: urllib3 in c:\\users\\admin\\anaconda3\\lib\\site-packages (from selenium) (1.25.10)\n"
     ]
    }
   ],
   "source": [
    "# Install Selenium\n",
    "\n",
    "!pip install selenium"
   ]
  },
  {
   "cell_type": "code",
   "execution_count": 2,
   "metadata": {},
   "outputs": [
    {
     "name": "stdout",
     "output_type": "stream",
     "text": [
      "Requirement already satisfied: webdriver-manager in c:\\users\\admin\\anaconda3\\lib\\site-packages (3.2.2)\n",
      "Requirement already satisfied: requests in c:\\users\\admin\\anaconda3\\lib\\site-packages (from webdriver-manager) (2.24.0)\n",
      "Requirement already satisfied: configparser in c:\\users\\admin\\anaconda3\\lib\\site-packages (from webdriver-manager) (5.0.1)\n",
      "Requirement already satisfied: crayons in c:\\users\\admin\\anaconda3\\lib\\site-packages (from webdriver-manager) (0.4.0)\n",
      "Requirement already satisfied: urllib3!=1.25.0,!=1.25.1,<1.26,>=1.21.1 in c:\\users\\admin\\anaconda3\\lib\\site-packages (from requests->webdriver-manager) (1.25.10)\n",
      "Requirement already satisfied: certifi>=2017.4.17 in c:\\users\\admin\\anaconda3\\lib\\site-packages (from requests->webdriver-manager) (2020.6.20)\n",
      "Requirement already satisfied: idna<3,>=2.5 in c:\\users\\admin\\anaconda3\\lib\\site-packages (from requests->webdriver-manager) (2.10)\n",
      "Requirement already satisfied: chardet<4,>=3.0.2 in c:\\users\\admin\\anaconda3\\lib\\site-packages (from requests->webdriver-manager) (3.0.4)\n",
      "Requirement already satisfied: colorama in c:\\users\\admin\\anaconda3\\lib\\site-packages (from crayons->webdriver-manager) (0.4.3)\n"
     ]
    }
   ],
   "source": [
    "# Install Webdriver-Manager\n",
    "\n",
    "!pip install webdriver-manager"
   ]
  },
  {
   "cell_type": "code",
   "execution_count": 3,
   "metadata": {},
   "outputs": [],
   "source": [
    "import time\n",
    "import re\n",
    "import pandas as pd\n",
    "\n",
    "from selenium import webdriver\n",
    "from webdriver_manager.firefox import GeckoDriverManager\n",
    "from selenium.webdriver.common.keys import Keys\n",
    "from selenium.webdriver.support import expected_conditions as EC\n",
    "from selenium.webdriver.support.ui import WebDriverWait\n",
    "from selenium.common.exceptions import TimeoutException\n",
    "from selenium.webdriver.common.by import By\n",
    "\n",
    "from tqdm import tqdm"
   ]
  },
  {
   "cell_type": "markdown",
   "metadata": {},
   "source": [
    "## SET TARGET URL"
   ]
  },
  {
   "cell_type": "code",
   "execution_count": 4,
   "metadata": {},
   "outputs": [
    {
     "name": "stderr",
     "output_type": "stream",
     "text": [
      "[WDM] - Driver [C:\\Users\\Admin\\.wdm\\drivers\\geckodriver\\win64\\v0.27.0\\geckodriver.exe] found in cache\n"
     ]
    }
   ],
   "source": [
    "# Use Firefox as webdriver\n",
    "\n",
    "url = 'https://play.google.com/store/movies/details/Marvel_s_Avengers_Infinity_War?id=MCdf1wSsYxk&showAllReviews=true'\n",
    "driver = webdriver.Firefox(executable_path=GeckoDriverManager().install())\n",
    "driver.get(url)"
   ]
  },
  {
   "cell_type": "markdown",
   "metadata": {},
   "source": [
    "## SET THE PARAMETER, KEY, AND PATH"
   ]
  },
  {
   "cell_type": "code",
   "execution_count": 5,
   "metadata": {},
   "outputs": [
    {
     "name": "stderr",
     "output_type": "stream",
     "text": [
      "  0%|          | 0/15 [00:00<?, ?it/s]\n",
      "  0%|          | 0/5 [00:00<?, ?it/s]\u001b[A\n",
      " 20%|██        | 1/5 [00:02<00:08,  2.04s/it]\u001b[A\n",
      " 40%|████      | 2/5 [00:04<00:06,  2.04s/it]\u001b[A\n",
      " 60%|██████    | 3/5 [00:06<00:04,  2.03s/it]\u001b[A\n",
      " 80%|████████  | 4/5 [00:08<00:02,  2.03s/it]\u001b[A\n",
      "100%|██████████| 5/5 [00:10<00:00,  2.03s/it]\u001b[A\n",
      "  7%|▋         | 1/15 [00:10<02:33, 10.95s/it]\n",
      "  0%|          | 0/5 [00:00<?, ?it/s]\u001b[A\n",
      " 20%|██        | 1/5 [00:02<00:08,  2.04s/it]\u001b[A\n",
      " 40%|████      | 2/5 [00:04<00:06,  2.04s/it]\u001b[A\n",
      " 60%|██████    | 3/5 [00:06<00:04,  2.04s/it]\u001b[A\n",
      " 80%|████████  | 4/5 [00:08<00:02,  2.03s/it]\u001b[A\n",
      "100%|██████████| 5/5 [00:10<00:00,  2.03s/it]\u001b[A\n",
      " 13%|█▎        | 2/15 [00:21<02:22, 10.95s/it]\n",
      "  0%|          | 0/5 [00:00<?, ?it/s]\u001b[A\n",
      " 20%|██        | 1/5 [00:02<00:08,  2.04s/it]\u001b[A\n",
      " 40%|████      | 2/5 [00:04<00:06,  2.04s/it]\u001b[A\n",
      " 60%|██████    | 3/5 [00:06<00:04,  2.04s/it]\u001b[A\n",
      " 80%|████████  | 4/5 [00:08<00:02,  2.03s/it]\u001b[A\n",
      "100%|██████████| 5/5 [00:10<00:00,  2.03s/it]\u001b[A\n",
      " 20%|██        | 3/15 [00:32<02:11, 10.93s/it]\n",
      "  0%|          | 0/5 [00:00<?, ?it/s]\u001b[A\n",
      " 20%|██        | 1/5 [00:02<00:08,  2.02s/it]\u001b[A\n",
      " 40%|████      | 2/5 [00:04<00:06,  2.02s/it]\u001b[A\n",
      " 60%|██████    | 3/5 [00:06<00:04,  2.02s/it]\u001b[A\n",
      " 80%|████████  | 4/5 [00:08<00:02,  2.02s/it]\u001b[A\n",
      "100%|██████████| 5/5 [00:10<00:00,  2.01s/it]\u001b[A\n",
      " 27%|██▋       | 4/15 [00:43<01:59, 10.90s/it]\n",
      "  0%|          | 0/5 [00:00<?, ?it/s]\u001b[A\n",
      " 20%|██        | 1/5 [00:02<00:08,  2.03s/it]\u001b[A\n",
      " 40%|████      | 2/5 [00:04<00:06,  2.02s/it]\u001b[A\n",
      " 60%|██████    | 3/5 [00:06<00:04,  2.02s/it]\u001b[A\n",
      " 80%|████████  | 4/5 [00:08<00:02,  2.02s/it]\u001b[A\n",
      "100%|██████████| 5/5 [00:10<00:00,  2.02s/it]\u001b[A\n",
      " 33%|███▎      | 5/15 [00:54<01:48, 10.89s/it]\n",
      "  0%|          | 0/5 [00:00<?, ?it/s]\u001b[A\n",
      " 20%|██        | 1/5 [00:02<00:08,  2.05s/it]\u001b[A\n",
      " 40%|████      | 2/5 [00:04<00:06,  2.04s/it]\u001b[A\n",
      " 60%|██████    | 3/5 [00:06<00:04,  2.04s/it]\u001b[A\n",
      " 80%|████████  | 4/5 [00:08<00:02,  2.04s/it]\u001b[A\n",
      "100%|██████████| 5/5 [00:10<00:00,  2.03s/it]\u001b[A\n",
      " 40%|████      | 6/15 [01:05<01:38, 10.90s/it]\n",
      "  0%|          | 0/5 [00:00<?, ?it/s]\u001b[A\n",
      " 20%|██        | 1/5 [00:02<00:08,  2.03s/it]\u001b[A\n",
      " 40%|████      | 2/5 [00:04<00:06,  2.03s/it]\u001b[A\n",
      " 60%|██████    | 3/5 [00:06<00:04,  2.03s/it]\u001b[A\n",
      " 80%|████████  | 4/5 [00:08<00:02,  2.03s/it]\u001b[A\n",
      "100%|██████████| 5/5 [00:10<00:00,  2.03s/it]\u001b[A\n",
      " 47%|████▋     | 7/15 [01:16<01:27, 10.91s/it]\n",
      "  0%|          | 0/5 [00:00<?, ?it/s]\u001b[A\n",
      " 20%|██        | 1/5 [00:02<00:08,  2.07s/it]\u001b[A\n",
      " 40%|████      | 2/5 [00:04<00:06,  2.05s/it]\u001b[A\n",
      " 60%|██████    | 3/5 [00:06<00:04,  2.04s/it]\u001b[A\n",
      " 80%|████████  | 4/5 [00:08<00:02,  2.04s/it]\u001b[A\n",
      "100%|██████████| 5/5 [00:10<00:00,  2.03s/it]\u001b[A\n",
      " 53%|█████▎    | 8/15 [01:27<01:16, 10.92s/it]\n",
      "  0%|          | 0/5 [00:00<?, ?it/s]\u001b[A\n",
      " 20%|██        | 1/5 [00:02<00:08,  2.05s/it]\u001b[A\n",
      " 40%|████      | 2/5 [00:04<00:06,  2.04s/it]\u001b[A\n",
      " 60%|██████    | 3/5 [00:06<00:04,  2.03s/it]\u001b[A\n",
      " 80%|████████  | 4/5 [00:08<00:02,  2.03s/it]\u001b[A\n",
      "100%|██████████| 5/5 [00:10<00:00,  2.02s/it]\u001b[A\n",
      " 60%|██████    | 9/15 [01:38<01:05, 10.91s/it]\n",
      "  0%|          | 0/5 [00:00<?, ?it/s]\u001b[A\n",
      " 20%|██        | 1/5 [00:02<00:08,  2.06s/it]\u001b[A\n",
      " 40%|████      | 2/5 [00:04<00:06,  2.04s/it]\u001b[A\n",
      " 60%|██████    | 3/5 [00:06<00:04,  2.03s/it]\u001b[A\n",
      " 80%|████████  | 4/5 [00:08<00:02,  2.02s/it]\u001b[A\n",
      "100%|██████████| 5/5 [00:10<00:00,  2.02s/it]\u001b[A\n",
      " 67%|██████▋   | 10/15 [01:49<00:54, 10.90s/it]\n",
      "  0%|          | 0/5 [00:00<?, ?it/s]\u001b[A\n",
      " 20%|██        | 1/5 [00:02<00:08,  2.06s/it]\u001b[A\n",
      " 40%|████      | 2/5 [00:04<00:06,  2.05s/it]\u001b[A\n",
      " 60%|██████    | 3/5 [00:06<00:04,  2.04s/it]\u001b[A\n",
      " 80%|████████  | 4/5 [00:08<00:02,  2.03s/it]\u001b[A\n",
      "100%|██████████| 5/5 [00:10<00:00,  2.03s/it]\u001b[A\n",
      " 73%|███████▎  | 11/15 [01:59<00:43, 10.91s/it]\n",
      "  0%|          | 0/5 [00:00<?, ?it/s]\u001b[A\n",
      " 20%|██        | 1/5 [00:02<00:08,  2.08s/it]\u001b[A\n",
      " 40%|████      | 2/5 [00:04<00:06,  2.07s/it]\u001b[A\n",
      " 60%|██████    | 3/5 [00:06<00:04,  2.05s/it]\u001b[A\n",
      " 80%|████████  | 4/5 [00:08<00:02,  2.05s/it]\u001b[A\n",
      "100%|██████████| 5/5 [00:10<00:00,  2.04s/it]\u001b[A\n",
      " 80%|████████  | 12/15 [02:10<00:32, 10.93s/it]\n",
      "  0%|          | 0/5 [00:00<?, ?it/s]\u001b[A\n",
      " 20%|██        | 1/5 [00:02<00:08,  2.09s/it]\u001b[A\n",
      " 40%|████      | 2/5 [00:04<00:06,  2.07s/it]\u001b[A\n",
      " 60%|██████    | 3/5 [00:06<00:04,  2.06s/it]\u001b[A\n",
      " 80%|████████  | 4/5 [00:08<00:02,  2.05s/it]\u001b[A\n",
      "100%|██████████| 5/5 [00:10<00:00,  2.04s/it]\u001b[A\n",
      " 87%|████████▋ | 13/15 [02:21<00:21, 10.96s/it]\n",
      "  0%|          | 0/5 [00:00<?, ?it/s]\u001b[A\n",
      " 20%|██        | 1/5 [00:02<00:08,  2.07s/it]\u001b[A\n",
      " 40%|████      | 2/5 [00:04<00:06,  2.06s/it]\u001b[A\n",
      " 60%|██████    | 3/5 [00:06<00:04,  2.05s/it]\u001b[A\n",
      " 80%|████████  | 4/5 [00:08<00:02,  2.05s/it]\u001b[A\n",
      "100%|██████████| 5/5 [00:10<00:00,  2.04s/it]\u001b[A\n",
      " 93%|█████████▎| 14/15 [02:32<00:10, 10.96s/it]\n",
      "  0%|          | 0/5 [00:00<?, ?it/s]\u001b[A\n",
      " 20%|██        | 1/5 [00:02<00:08,  2.08s/it]\u001b[A\n",
      " 40%|████      | 2/5 [00:04<00:06,  2.06s/it]\u001b[A\n",
      " 60%|██████    | 3/5 [00:06<00:04,  2.05s/it]\u001b[A\n",
      " 80%|████████  | 4/5 [00:08<00:02,  2.04s/it]\u001b[A\n",
      "100%|██████████| 5/5 [00:10<00:00,  2.03s/it]\u001b[A\n",
      "100%|██████████| 15/15 [02:44<00:00, 10.93s/it]\n"
     ]
    }
   ],
   "source": [
    "# Set the parameter\n",
    "\n",
    "SCROLL_PAUSE_TIME = 2\n",
    "ROUND = 15\n",
    "CYCLES = 5\n",
    "\n",
    "# Set keys\n",
    "\n",
    "html = driver.find_element_by_tag_name('html')\n",
    "html.send_keys(Keys.PAGE_DOWN)  \n",
    "html.send_keys(Keys.PAGE_DOWN)  \n",
    "time.sleep(SCROLL_PAUSE_TIME * 3)\n",
    "\n",
    "# Set path\n",
    "\n",
    "for i in tqdm (range(ROUND)):\n",
    "    for j in tqdm (range(CYCLES)):\n",
    "        html.send_keys(Keys.END)\n",
    "        time.sleep(SCROLL_PAUSE_TIME)\n",
    "    WebDriverWait(driver, 5).until(EC.element_to_be_clickable((By.XPATH, \"//span[contains(@class,'RveJvd snByac')]\"))).click()"
   ]
  },
  {
   "cell_type": "markdown",
   "metadata": {},
   "source": [
    "## GETTING EACH ELEMENTS"
   ]
  },
  {
   "cell_type": "code",
   "execution_count": 6,
   "metadata": {},
   "outputs": [],
   "source": [
    "revw = driver.find_elements_by_xpath('//*[@class=\"UD7Dzf\"]/span[1]') \n",
    "user = driver.find_elements_by_xpath('//*[@class=\"bAhLNe kx8XBd\"]/span[@class=\"X43Kjb\"]')\n",
    "date = driver.find_elements_by_xpath('//*[@class=\"bAhLNe kx8XBd\"]/div/span[@class=\"p2TkOb\"]')\n",
    "rate = driver.find_elements_by_xpath('//*[@class=\"nt2C1d\"]/div[@class=\"pf5lIe\"]/div')"
   ]
  },
  {
   "cell_type": "markdown",
   "metadata": {},
   "source": [
    "## GETTING EACH ELEMENTS TO LIST"
   ]
  },
  {
   "cell_type": "code",
   "execution_count": 7,
   "metadata": {},
   "outputs": [
    {
     "name": "stderr",
     "output_type": "stream",
     "text": [
      "100%|██████████| 2480/2480 [00:53<00:00, 46.01it/s]\n"
     ]
    }
   ],
   "source": [
    "# Getting the user, date, and review\n",
    "\n",
    "users = []\n",
    "dates = []\n",
    "revws = []\n",
    "\n",
    "for i in tqdm (range(len(user))):\n",
    "    users.append(str(user[i].text))\n",
    "    dates.append(str(date[i].text))\n",
    "    revws.append(str(revw[i].text))"
   ]
  },
  {
   "cell_type": "code",
   "execution_count": 8,
   "metadata": {
    "scrolled": true
   },
   "outputs": [
    {
     "name": "stderr",
     "output_type": "stream",
     "text": [
      "100%|██████████| 2480/2480 [00:24<00:00, 101.49it/s]\n"
     ]
    }
   ],
   "source": [
    "# Getting the ratings\n",
    "\n",
    "rates = []\n",
    "for i in tqdm(rate):\n",
    "    rates.append(i.get_attribute('aria-label'))"
   ]
  },
  {
   "cell_type": "markdown",
   "metadata": {},
   "source": [
    "## TRANSFORMING TO DATAFRAME"
   ]
  },
  {
   "cell_type": "code",
   "execution_count": 9,
   "metadata": {},
   "outputs": [],
   "source": [
    "# Set dataframe\n",
    "\n",
    "df = pd.DataFrame()\n",
    "\n",
    "# Inserting each features to the dataframe\n",
    "\n",
    "df['user'] = users\n",
    "df['date'] = dates\n",
    "df['review'] = revws\n",
    "df['rate'] = rates"
   ]
  },
  {
   "cell_type": "code",
   "execution_count": 10,
   "metadata": {},
   "outputs": [
    {
     "data": {
      "text/html": [
       "<div>\n",
       "<style scoped>\n",
       "    .dataframe tbody tr th:only-of-type {\n",
       "        vertical-align: middle;\n",
       "    }\n",
       "\n",
       "    .dataframe tbody tr th {\n",
       "        vertical-align: top;\n",
       "    }\n",
       "\n",
       "    .dataframe thead th {\n",
       "        text-align: right;\n",
       "    }\n",
       "</style>\n",
       "<table border=\"1\" class=\"dataframe\">\n",
       "  <thead>\n",
       "    <tr style=\"text-align: right;\">\n",
       "      <th></th>\n",
       "      <th>user</th>\n",
       "      <th>date</th>\n",
       "      <th>review</th>\n",
       "      <th>rate</th>\n",
       "    </tr>\n",
       "  </thead>\n",
       "  <tbody>\n",
       "    <tr>\n",
       "      <th>0</th>\n",
       "      <td>GPStarlight</td>\n",
       "      <td>May 14, 2019</td>\n",
       "      <td>I really love the Battle between Thanos and th...</td>\n",
       "      <td>Rated 4 stars out of five stars</td>\n",
       "    </tr>\n",
       "    <tr>\n",
       "      <th>1</th>\n",
       "      <td>Ristantyo Harmanto</td>\n",
       "      <td>April 29, 2019</td>\n",
       "      <td>Viewer can see clearly that this movie was mad...</td>\n",
       "      <td>Rated 4 stars out of five stars</td>\n",
       "    </tr>\n",
       "    <tr>\n",
       "      <th>2</th>\n",
       "      <td>Ryan De Guzman</td>\n",
       "      <td>November 2, 2018</td>\n",
       "      <td>It's Been Ten Years Since The Marvel Cinematic...</td>\n",
       "      <td>Rated 5 stars out of five stars</td>\n",
       "    </tr>\n",
       "    <tr>\n",
       "      <th>3</th>\n",
       "      <td>KEN 88</td>\n",
       "      <td>September 15, 2019</td>\n",
       "      <td>I couldn't believe, this is the most ultimate ...</td>\n",
       "      <td>Rated 5 stars out of five stars</td>\n",
       "    </tr>\n",
       "    <tr>\n",
       "      <th>4</th>\n",
       "      <td>Rhian Cuadrante</td>\n",
       "      <td>May 30, 2020</td>\n",
       "      <td>When haters said that Marvel's villain are bor...</td>\n",
       "      <td>Rated 5 stars out of five stars</td>\n",
       "    </tr>\n",
       "  </tbody>\n",
       "</table>\n",
       "</div>"
      ],
      "text/plain": [
       "                 user                date  \\\n",
       "0         GPStarlight        May 14, 2019   \n",
       "1  Ristantyo Harmanto      April 29, 2019   \n",
       "2      Ryan De Guzman    November 2, 2018   \n",
       "3              KEN 88  September 15, 2019   \n",
       "4     Rhian Cuadrante        May 30, 2020   \n",
       "\n",
       "                                              review  \\\n",
       "0  I really love the Battle between Thanos and th...   \n",
       "1  Viewer can see clearly that this movie was mad...   \n",
       "2  It's Been Ten Years Since The Marvel Cinematic...   \n",
       "3  I couldn't believe, this is the most ultimate ...   \n",
       "4  When haters said that Marvel's villain are bor...   \n",
       "\n",
       "                              rate  \n",
       "0  Rated 4 stars out of five stars  \n",
       "1  Rated 4 stars out of five stars  \n",
       "2  Rated 5 stars out of five stars  \n",
       "3  Rated 5 stars out of five stars  \n",
       "4  Rated 5 stars out of five stars  "
      ]
     },
     "execution_count": 10,
     "metadata": {},
     "output_type": "execute_result"
    }
   ],
   "source": [
    "df.head()"
   ]
  },
  {
   "cell_type": "code",
   "execution_count": 11,
   "metadata": {},
   "outputs": [
    {
     "data": {
      "text/html": [
       "<div>\n",
       "<style scoped>\n",
       "    .dataframe tbody tr th:only-of-type {\n",
       "        vertical-align: middle;\n",
       "    }\n",
       "\n",
       "    .dataframe tbody tr th {\n",
       "        vertical-align: top;\n",
       "    }\n",
       "\n",
       "    .dataframe thead th {\n",
       "        text-align: right;\n",
       "    }\n",
       "</style>\n",
       "<table border=\"1\" class=\"dataframe\">\n",
       "  <thead>\n",
       "    <tr style=\"text-align: right;\">\n",
       "      <th></th>\n",
       "      <th>user</th>\n",
       "      <th>date</th>\n",
       "      <th>review</th>\n",
       "      <th>rate</th>\n",
       "    </tr>\n",
       "  </thead>\n",
       "  <tbody>\n",
       "    <tr>\n",
       "      <th>2475</th>\n",
       "      <td>A Google user</td>\n",
       "      <td>November 25, 2018</td>\n",
       "      <td>Faris</td>\n",
       "      <td>Rated 5 stars out of five stars</td>\n",
       "    </tr>\n",
       "    <tr>\n",
       "      <th>2476</th>\n",
       "      <td>Danh Gaming</td>\n",
       "      <td>October 28, 2018</td>\n",
       "      <td>Good</td>\n",
       "      <td>Rated 5 stars out of five stars</td>\n",
       "    </tr>\n",
       "    <tr>\n",
       "      <th>2477</th>\n",
       "      <td>A Google user</td>\n",
       "      <td>November 10, 2018</td>\n",
       "      <td>Hay</td>\n",
       "      <td>Rated 5 stars out of five stars</td>\n",
       "    </tr>\n",
       "    <tr>\n",
       "      <th>2478</th>\n",
       "      <td>A Google user</td>\n",
       "      <td>December 24, 2018</td>\n",
       "      <td>gk</td>\n",
       "      <td>Rated 4 stars out of five stars</td>\n",
       "    </tr>\n",
       "    <tr>\n",
       "      <th>2479</th>\n",
       "      <td>agusmd</td>\n",
       "      <td>October 31, 2018</td>\n",
       "      <td>Ghh</td>\n",
       "      <td>Rated 5 stars out of five stars</td>\n",
       "    </tr>\n",
       "  </tbody>\n",
       "</table>\n",
       "</div>"
      ],
      "text/plain": [
       "               user               date review                             rate\n",
       "2475  A Google user  November 25, 2018  Faris  Rated 5 stars out of five stars\n",
       "2476    Danh Gaming   October 28, 2018   Good  Rated 5 stars out of five stars\n",
       "2477  A Google user  November 10, 2018    Hay  Rated 5 stars out of five stars\n",
       "2478  A Google user  December 24, 2018     gk  Rated 4 stars out of five stars\n",
       "2479         agusmd   October 31, 2018    Ghh  Rated 5 stars out of five stars"
      ]
     },
     "execution_count": 11,
     "metadata": {},
     "output_type": "execute_result"
    }
   ],
   "source": [
    "df.tail()"
   ]
  },
  {
   "cell_type": "code",
   "execution_count": 12,
   "metadata": {},
   "outputs": [
    {
     "name": "stdout",
     "output_type": "stream",
     "text": [
      "<class 'pandas.core.frame.DataFrame'>\n",
      "RangeIndex: 2480 entries, 0 to 2479\n",
      "Data columns (total 4 columns):\n",
      " #   Column  Non-Null Count  Dtype \n",
      "---  ------  --------------  ----- \n",
      " 0   user    2480 non-null   object\n",
      " 1   date    2480 non-null   object\n",
      " 2   review  2480 non-null   object\n",
      " 3   rate    2480 non-null   object\n",
      "dtypes: object(4)\n",
      "memory usage: 77.6+ KB\n"
     ]
    }
   ],
   "source": [
    "df.info()"
   ]
  },
  {
   "cell_type": "code",
   "execution_count": 13,
   "metadata": {},
   "outputs": [],
   "source": [
    "df.to_csv('reviews.csv')"
   ]
  }
 ],
 "metadata": {
  "kernelspec": {
   "display_name": "Python 3",
   "language": "python",
   "name": "python3"
  },
  "language_info": {
   "codemirror_mode": {
    "name": "ipython",
    "version": 3
   },
   "file_extension": ".py",
   "mimetype": "text/x-python",
   "name": "python",
   "nbconvert_exporter": "python",
   "pygments_lexer": "ipython3",
   "version": "3.8.5"
  }
 },
 "nbformat": 4,
 "nbformat_minor": 4
}
